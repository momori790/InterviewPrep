{
 "cells": [
  {
   "cell_type": "markdown",
   "metadata": {},
   "source": [
    "quicksort implementation\n"
   ]
  },
  {
   "cell_type": "code",
   "execution_count": 75,
   "metadata": {},
   "outputs": [],
   "source": [
    "def partition(array, low_index, high_index):\n",
    "    '''sorts the array in-place so that all lower values than the pivot\n",
    "    is to the left, and all higher elements are to the right\n",
    "    \n",
    "    inputs\n",
    "    ----------------\n",
    "    array:\n",
    "        list of numbers to be sorted\n",
    "    low_index: highest index of the elements lower than the pivot\n",
    "    high_index: lowest index of the elements higher than the pivot\n",
    "    '''\n",
    "    length = high_index-low_index\n",
    "    \n",
    "    pivot_element = array[high_index]\n",
    "    \n",
    "    #i will be the highest index of the elements smaller than the pivot element\n",
    "    i = low_index-1\n",
    "    \n",
    "    for index in range(low_index, high_index):\n",
    "        if array[index] <= pivot_element:\n",
    "    \n",
    "            i+=1\n",
    "            array[i], array[index] = array[index], array[i]\n",
    "\n",
    "    #swap pivot element with the current value of i+1\n",
    "    array[i+1], array[high_index] = array[high_index], array[i+1]\n",
    "    \n",
    "    #return the index of the element that is sorted correctly\n",
    "    return i+1\n",
    "\n",
    "def quick_sort(array, low=0, high=None):\n",
    "    '''sort the array in-place using quicksort algorithm\n",
    "    splits the array into two partitions and recursively calls partition function\n",
    "    to sort the smaller partitions\n",
    "    '''\n",
    "    if not high:\n",
    "        high = len(array)-1\n",
    "        \n",
    "    if low<high:\n",
    "        #get the initial partition index\n",
    "        partition_index = partition(array, low, high)\n",
    "\n",
    "        #recursively call partition function to the sub-arrays\n",
    "        quick_sort(array, low, partition_index-1)\n",
    "        quick_sort(array, partition_index+1, high)\n",
    "        \n",
    "        \n",
    "        \n",
    "    \n",
    "    \n",
    "    "
   ]
  },
  {
   "cell_type": "code",
   "execution_count": 76,
   "metadata": {},
   "outputs": [
    {
     "data": {
      "text/plain": [
       "[0, 1, 2, 2, 3, 4, 5, 6, 7, 19]"
      ]
     },
     "execution_count": 76,
     "metadata": {},
     "output_type": "execute_result"
    }
   ],
   "source": [
    "array = [2,1,4,3, 6, 7, 2, 5, 0, 19]\n",
    "quick_sort(array)\n",
    "array"
   ]
  },
  {
   "cell_type": "code",
   "execution_count": null,
   "metadata": {},
   "outputs": [],
   "source": []
  }
 ],
 "metadata": {
  "kernelspec": {
   "display_name": "Python 2",
   "language": "python",
   "name": "python2"
  },
  "language_info": {
   "codemirror_mode": {
    "name": "ipython",
    "version": 2
   },
   "file_extension": ".py",
   "mimetype": "text/x-python",
   "name": "python",
   "nbconvert_exporter": "python",
   "pygments_lexer": "ipython2",
   "version": "2.7.14"
  }
 },
 "nbformat": 4,
 "nbformat_minor": 2
}
