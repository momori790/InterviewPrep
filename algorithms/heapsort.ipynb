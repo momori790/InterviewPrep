{
 "cells": [
  {
   "cell_type": "markdown",
   "metadata": {},
   "source": [
    "heapsort algorithm"
   ]
  },
  {
   "cell_type": "code",
   "execution_count": 1,
   "metadata": {},
   "outputs": [],
   "source": [
    "def heapify(array, n, i):\n",
    "    '''heapify the input array\n",
    "    \n",
    "    input:\n",
    "    ----------------------\n",
    "    n: \n",
    "        length of array we want to sort. this gradually decreases as we find the maximum element\n",
    "    i:\n",
    "        the index of the root node. We use this because whenever we swap elements, we need to sift downwards\n",
    "        and make sure the children of the swapped element is in the proper order\n",
    "    '''\n",
    "    largest_index = i\n",
    "    \n",
    "    left_child_index = 2*i+1\n",
    "    right_child_index = 2*i+2\n",
    "    \n",
    "    #compare the children nodes with the parent\n",
    "    if left_child_index < n and array[i] < array[left_child_index]:\n",
    "        largest_index = left_child_index\n",
    "        \n",
    "    if right_child_index < n and array[i] < array[right_child_index] and \\\n",
    "            array[left_child_index] < array[right_child_index]:\n",
    "        largest_index = right_child_index\n",
    "        \n",
    "    #if child is larger, swap the root and the child\n",
    "    if largest_index!=i:\n",
    "        array[largest_index], array[i] = array[i], array[largest_index]\n",
    "        \n",
    "        #we heapify the subtree\n",
    "        heapify(array, n, largest_index)\n",
    "        \n",
    "def heap_sort(array):\n",
    "    '''uses a max heap structure to sort the input\n",
    "    '''\n",
    "    \n",
    "    #use heapify to create a maxheap\n",
    "    for i in range(len(array)):\n",
    "        heapify(array, len(array), i)\n",
    "        \n",
    "    #swap the root with the last element and resort the remainder\n",
    "    for i in range(1,len(array)):\n",
    "        n = len(array)-i\n",
    "        array[n], array[0] = array[0], array[n]\n",
    "        heapify(array, n, 0)\n",
    "    \n",
    "    \n",
    "    \n",
    "    \n",
    "    "
   ]
  },
  {
   "cell_type": "code",
   "execution_count": 2,
   "metadata": {},
   "outputs": [
    {
     "data": {
      "text/plain": [
       "[1, 3, 7, 8, 14, 19]"
      ]
     },
     "execution_count": 2,
     "metadata": {},
     "output_type": "execute_result"
    }
   ],
   "source": [
    "array = [3, 19, 1, 14, 8, 7]\n",
    "heap_sort(array)\n",
    "array"
   ]
  },
  {
   "cell_type": "code",
   "execution_count": null,
   "metadata": {},
   "outputs": [],
   "source": []
  }
 ],
 "metadata": {
  "kernelspec": {
   "display_name": "Python 2",
   "language": "python",
   "name": "python2"
  },
  "language_info": {
   "codemirror_mode": {
    "name": "ipython",
    "version": 2
   },
   "file_extension": ".py",
   "mimetype": "text/x-python",
   "name": "python",
   "nbconvert_exporter": "python",
   "pygments_lexer": "ipython2",
   "version": "2.7.14"
  }
 },
 "nbformat": 4,
 "nbformat_minor": 2
}
